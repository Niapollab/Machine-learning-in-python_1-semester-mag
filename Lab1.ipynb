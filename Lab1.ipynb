{
 "cells": [
  {
   "cell_type": "markdown",
   "metadata": {},
   "source": [
    "# Лабораторная работа №1 \"Деревья решений, случайный лес и градиентный бустинг\""
   ]
  },
  {
   "cell_type": "code",
   "execution_count": null,
   "metadata": {},
   "outputs": [],
   "source": [
    "from re import Match\n",
    "from sklearn.ensemble import RandomForestRegressor, GradientBoostingRegressor\n",
    "from sklearn.metrics import mean_absolute_error\n",
    "from sklearn.model_selection import train_test_split\n",
    "from sklearn.tree import DecisionTreeRegressor, plot_tree\n",
    "import math\n",
    "import matplotlib.pyplot as plt\n",
    "import numpy as np\n",
    "import pandas as pd\n",
    "import re"
   ]
  },
  {
   "cell_type": "code",
   "execution_count": null,
   "metadata": {},
   "outputs": [],
   "source": [
    "UNITS_PATTERN = re.compile(r'^(\\d+(?:\\.\\d+)?) *(\\w*?)$')\n",
    "PRICE_PATTERN = re.compile(r'^\\$?([\\d,]+(?:\\.\\d+)?)\\$?$')\n",
    "OS_PATTERN = re.compile(r'^(\\w{3}).*?(\\d+)?$')\n",
    "\n",
    "\n",
    "def reduce_units(val: str | int | float, units: dict[str, float], default_unit: str) ->  float:\n",
    "    match = __find_match(val, UNITS_PATTERN)\n",
    "    if match is None:\n",
    "        return math.nan\n",
    "\n",
    "    number = float(match[1])\n",
    "    unit = units[match[2] or default_unit]\n",
    "\n",
    "    return number * unit\n",
    "\n",
    "\n",
    "def reduce_price(val: str | int | float) -> float:\n",
    "    match = __find_match(val, PRICE_PATTERN)\n",
    "    if match is None:\n",
    "        return math.nan\n",
    "\n",
    "    return float(match[1].replace(',', ''))\n",
    "\n",
    "\n",
    "def reduce_os(val: str | int | float) -> str | None:\n",
    "    match = __find_match(val, OS_PATTERN)\n",
    "    if match is None:\n",
    "        return None\n",
    "\n",
    "    return f'{match[1]} {match[2] or \"\"}'.strip()\n",
    "\n",
    "\n",
    "def __find_match(val: str | int | float, pattern: re.Pattern) -> Match[str] | None:\n",
    "    if pd.isna(val):\n",
    "        return None\n",
    "\n",
    "    val = str(val) if not isinstance(val, str) else val\n",
    "    return pattern.match(val.strip().lower())"
   ]
  },
  {
   "cell_type": "code",
   "execution_count": null,
   "metadata": {},
   "outputs": [],
   "source": [
    "df = pd.read_csv('data/amazon_laptop_prices_v01.tar.gz')\n",
    "df.info()"
   ]
  },
  {
   "cell_type": "code",
   "execution_count": null,
   "metadata": {},
   "outputs": [],
   "source": [
    "for column in df.columns:\n",
    "    print(column, df[column].unique(), sep='\\n')"
   ]
  },
  {
   "cell_type": "code",
   "execution_count": null,
   "metadata": {},
   "outputs": [],
   "source": [
    "df = df[df['price'].notna()]\n",
    "df['price'] = df['price'].apply(reduce_price)\n",
    "\n",
    "df['brand'] = df['brand'].str.lower()\n",
    "\n",
    "df['screen_size'] = df['screen_size'].apply(lambda x: reduce_units(x, {\n",
    "    'inches' : 1\n",
    "}, 'inches'))\n",
    "df['screen_size'] = df['screen_size'].fillna(df['screen_size'].mean())\n",
    "\n",
    "for column in {'harddisk', 'ram'}:\n",
    "    df[column] = df[column].apply(lambda x: reduce_units(x, {\n",
    "        'mb': 1e-3,\n",
    "        'gb': 1,\n",
    "        'tb': 1e3\n",
    "    }, 'gb'))\n",
    "    df[column] = df[column].fillna(df[column].mean())\n",
    "\n",
    "df['cpu_speed'] = df['cpu_speed'].apply(lambda x: reduce_units(x, {\n",
    "    'hz': 1e-6,\n",
    "    'mhz': 1e-3,\n",
    "    'ghz': 1\n",
    "}, 'ghz'))\n",
    "df['cpu_speed'] = df['cpu_speed'].fillna(df['cpu_speed'].mean())\n",
    "\n",
    "df['rating'] = df['rating'].fillna(df['rating'].mean())\n",
    "\n",
    "df['OS'] = df['OS'].apply(reduce_os)\n",
    "df['OS'] = df['OS'].fillna('unk')\n",
    "\n",
    "df['special_features'] = df['special_features'].fillna('').apply(lambda x: x.count(','))\n",
    "\n",
    "df = df.drop(['model', 'color', 'cpu', 'ram', 'graphics', 'graphics_coprocessor'], axis=1)"
   ]
  },
  {
   "cell_type": "code",
   "execution_count": null,
   "metadata": {},
   "outputs": [],
   "source": [
    "df.info()"
   ]
  },
  {
   "cell_type": "code",
   "execution_count": null,
   "metadata": {},
   "outputs": [],
   "source": [
    "df = pd.concat([df, pd.get_dummies(df['brand'], prefix=\"brand\"), pd.get_dummies(df['OS'], prefix=\"OS\")], axis = 1)\n",
    "df = df.drop(['brand', 'OS'], axis=1)"
   ]
  },
  {
   "cell_type": "code",
   "execution_count": null,
   "metadata": {},
   "outputs": [],
   "source": [
    "df.info()"
   ]
  },
  {
   "cell_type": "code",
   "execution_count": null,
   "metadata": {},
   "outputs": [],
   "source": [
    "TRAIN_PROPORTION = 2e-1\n",
    "RANDOM_SEED = 42\n",
    "\n",
    "y = df['price']\n",
    "X = df.drop(['price'], axis=1)\n",
    "\n",
    "X_train, X_test, y_train, y_test = train_test_split(X, y, test_size=TRAIN_PROPORTION, random_state=RANDOM_SEED)"
   ]
  },
  {
   "cell_type": "code",
   "execution_count": null,
   "metadata": {},
   "outputs": [],
   "source": [
    "trees = (DecisionTreeRegressor(max_depth=i, random_state=RANDOM_SEED) for i in range(1, 11))\n",
    "best_tree = max(trees, key=lambda x: x.fit(X_train, y_train).score(X_test, y_test))  # type: ignore\n",
    "\n",
    "plt.figure(figsize=((30,10)))\n",
    "plot_tree(best_tree, filled=True, feature_names=X.columns)  # type: ignore\n",
    "plt.savefig('Decision tree.pdf')"
   ]
  },
  {
   "cell_type": "code",
   "execution_count": null,
   "metadata": {},
   "outputs": [],
   "source": [
    "random_forests = (RandomForestRegressor(n_estimators=i, max_depth=j, random_state=RANDOM_SEED) for i in range(1, 41) for j in range(1, 11))\n",
    "best_random_forest = max(random_forests, key=lambda x: x.fit(X_train, y_train).score(X_test, y_test))  # type: ignore"
   ]
  },
  {
   "cell_type": "code",
   "execution_count": null,
   "metadata": {},
   "outputs": [],
   "source": [
    "gradient_boostings = (GradientBoostingRegressor(n_estimators=i, max_depth=j, random_state=RANDOM_SEED) for i in range(1, 41) for j in range(1, 11))\n",
    "best_gradient_boostings = max(gradient_boostings, key=lambda x: x.fit(X_train, y_train).score(X_test, y_test))  # type: ignore"
   ]
  },
  {
   "cell_type": "markdown",
   "metadata": {},
   "source": [
    "![Mean absolute error formula](https://machinelearningmastery.ru/img/0-411862-507651.png)"
   ]
  },
  {
   "cell_type": "code",
   "execution_count": null,
   "metadata": {},
   "outputs": [],
   "source": [
    "models = (best_tree, best_random_forest, best_gradient_boostings)\n",
    "\n",
    "for model in models:\n",
    "    print('Model:', repr(model))\n",
    "    print('Score:', model.score(X_test, y_test))\n",
    "\n",
    "    y_pred = model.predict(X_test)\n",
    "    print('Mean absolute error:', mean_absolute_error(y_test, y_pred))\n",
    "\n",
    "    plt.figure(figsize=(7, 7))\n",
    "    plt.scatter(y_test, y_pred)\n",
    "    plt.plot([0, max(y_test)], [0, max(y_pred)])\n",
    "    plt.xlabel('Настоящая цена', fontsize=15)\n",
    "    plt.ylabel('Предсказанная цена', fontsize=15)\n",
    "    plt.show()\n",
    "\n",
    "    importances = model.feature_importances_\n",
    "    indices = np.argsort(importances)[::-1]\n",
    "\n",
    "    plt.figure(figsize=(15, 8))\n",
    "    plt.ylabel('Важность')\n",
    "    plt.xlabel('Название признака')\n",
    "    plt.bar(X_test.columns[indices], importances[indices])\n",
    "    plt.xticks(rotation=90)\n",
    "    plt.show()"
   ]
  }
 ],
 "metadata": {
  "kernelspec": {
   "display_name": ".venv",
   "language": "python",
   "name": "python3"
  },
  "language_info": {
   "codemirror_mode": {
    "name": "ipython",
    "version": 3
   },
   "file_extension": ".py",
   "mimetype": "text/x-python",
   "name": "python",
   "nbconvert_exporter": "python",
   "pygments_lexer": "ipython3",
   "version": "3.11.1"
  }
 },
 "nbformat": 4,
 "nbformat_minor": 2
}
